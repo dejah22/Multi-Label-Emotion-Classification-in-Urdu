{
  "nbformat": 4,
  "nbformat_minor": 0,
  "metadata": {
    "colab": {
      "provenance": [],
      "collapsed_sections": [],
      "authorship_tag": "ABX9TyMgPz+BnNE0A9Q71QaUk4YS"
    },
    "kernelspec": {
      "name": "python3",
      "display_name": "Python 3"
    },
    "language_info": {
      "name": "python"
    }
  },
  "cells": [
    {
      "cell_type": "markdown",
      "source": [
        "**CLASSIFIER CHAINS with TF-IDF**"
      ],
      "metadata": {
        "id": "WlBIXKIln0S1"
      }
    },
    {
      "cell_type": "code",
      "execution_count": null,
      "metadata": {
        "id": "ZY-l7MI0nYJI"
      },
      "outputs": [],
      "source": [
        "!pip install scikit-learn==0.24.1\n",
        "!pip install scikit-multilearn\n",
        "\n",
        "import pandas as pd\n",
        "import numpy as np\n",
        "from sklearn.model_selection import train_test_split\n",
        "from sklearn.feature_extraction.text import TfidfVectorizer\n",
        "from skmultilearn.adapt import MLkNN\n",
        "from sklearn.metrics import hamming_loss, accuracy_score, classification_report\n",
        "\n",
        "from google.colab import drive\n",
        "drive.mount('/content/drive')\n",
        "print('mount success')\n",
        "\n",
        "aspects_df = pd.read_csv('/content/drive/Shareddrives/EMOThreat/train_set_taskA.csv')\n",
        "X = aspects_df[\"Sentences\"]\n",
        "y = np.asarray(aspects_df[aspects_df.columns[:7]])\n",
        "  \n",
        "# initializing TfidfVectorizer \n",
        "vetorizar = TfidfVectorizer(max_features=7000, max_df=0.85)\n",
        "# fitting the tf-idf on the given data\n",
        "vetorizar.fit(X)\n",
        "  \n",
        "# splitting the data to training and testing data set\n",
        "X_train, X_test, y_train, y_test = train_test_split(X, y, test_size=0.10, random_state=42)\n",
        "  \n",
        "# transforming the data\n",
        "X_train_tfidf = vetorizar.transform(X_train)\n",
        "X_test_tfidf = vetorizar.transform(X_test)\n",
        "\n",
        "# using classifier chains\n",
        "from skmultilearn.problem_transform import ClassifierChain\n",
        "from sklearn.linear_model import LogisticRegression\n",
        "# initialize classifier chains multi-label classifier\n",
        "classifier = ClassifierChain(LogisticRegression())\n",
        "# Training logistic regression model on train data\n",
        "classifier.fit(X_train_tfidf, y_train)\n",
        "# predict\n",
        "predictions = classifier.predict(X_test_tfidf)\n",
        "# accuracy\n",
        "print(\"\\nReport: classifier chains\")\n",
        "print(\"Accuracy = \",accuracy_score(y_test,predictions))\n",
        "print(classification_report(y_test,predictions))"
      ]
    },
    {
      "cell_type": "markdown",
      "source": [
        "Test with the model"
      ],
      "metadata": {
        "id": "W0fOh1z1o29b"
      }
    },
    {
      "cell_type": "code",
      "source": [
        "import pandas as pd\n",
        "aspects_df = pd.read_csv('/content/drive/Shareddrives/EMOThreat/test_set_taskA.csv')\n",
        "X = aspects_df[\"Sentences\"]\n",
        "vetorizar = TfidfVectorizer(max_features=7000, max_df=0.85)\n",
        "# fitting the tf-idf on the given data\n",
        "vetorizar.fit(X)\n",
        "X = vetorizar.transform(X)\n",
        "pred=classifier.predict(X)\n",
        "pred=pred.astype(int)\n",
        "csv = pd.DataFrame(pred.toarray(),columns=[\"anger\",\"disgust\",\"fear\",\"sadness\",\"surprise\",\"happiness\",\"neutral\"])\n",
        "csv.insert(7,\"Sentences\",aspects_df[\"Sentences\"],True)\n",
        "csv.to_csv(\"pred_tfidf_cc.csv\", index=False)"
      ],
      "metadata": {
        "id": "U_P1SKSIox_i"
      },
      "execution_count": null,
      "outputs": []
    }
  ]
}
