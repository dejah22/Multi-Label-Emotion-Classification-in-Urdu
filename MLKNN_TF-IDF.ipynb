{
  "nbformat": 4,
  "nbformat_minor": 0,
  "metadata": {
    "colab": {
      "provenance": [],
      "collapsed_sections": []
    },
    "kernelspec": {
      "name": "python3",
      "display_name": "Python 3"
    },
    "language_info": {
      "name": "python"
    }
  },
  "cells": [
    {
      "cell_type": "markdown",
      "source": [
        "**TFIDF VECTORIZAR,CLASSIFIER: MLKNN**"
      ],
      "metadata": {
        "id": "gVtXP6oKt0nN"
      }
    },
    {
      "cell_type": "code",
      "execution_count": null,
      "metadata": {
        "id": "_SRALL9HpTjO"
      },
      "outputs": [],
      "source": [
        "#needed installs\n",
        "!pip install scikit-learn==0.24.1\n",
        "!pip install scikit-multilearn\n",
        "\n",
        "#needed imports\n",
        "import pandas as pd\n",
        "import numpy as np\n",
        "from sklearn.model_selection import train_test_split\n",
        "from sklearn.feature_extraction.text import TfidfVectorizer\n",
        "from skmultilearn.adapt import MLkNN\n",
        "from sklearn.metrics import hamming_loss, accuracy_score\n",
        "\n",
        "#mount drive\n",
        "from google.colab import drive\n",
        "drive.mount('/content/drive')\n",
        "print('mount success')\n",
        "\n",
        "#read from file\n",
        "aspects_df = pd.read_csv('/content/drive/Shareddrives/EMOThreat/train_set_taskA.csv')\n",
        "X = aspects_df[\"Sentences\"]\n",
        "y = np.asarray(aspects_df[aspects_df.columns[:7]])\n",
        "  \n",
        "# initializing TfidfVectorizer \n",
        "vetorizar = TfidfVectorizer(max_features=7000, max_df=0.85)\n",
        "# fitting the tf-idf on the given data\n",
        "vetorizar.fit(X)\n",
        "  \n",
        "# splitting the data to training and testing data set\n",
        "X_train, X_test, y_train, y_test = train_test_split(X, y, test_size=0.10, random_state=42)\n",
        "  \n",
        "# transforming the data\n",
        "X_train_tfidf = vetorizar.transform(X_train)\n",
        "X_test_tfidf = vetorizar.transform(X_test)"
      ]
    },
    {
      "cell_type": "code",
      "source": [
        "\n",
        "# import warnings filter\n",
        "from warnings import simplefilter\n",
        "# ignore all future warnings\n",
        "simplefilter(action='ignore', category=FutureWarning)\n",
        "\n",
        "#using Multi-label kNN classifier  \n",
        "import time \n",
        "from sklearn.model_selection import GridSearchCV\n",
        "start=time.time()\n",
        "\n",
        "mlknn_classifier = MLkNN(k=20)\n",
        "mlknn_classifier.fit(X_train_tfidf, y_train)\n",
        "predicted = mlknn_classifier.predict(X_test_tfidf)\n",
        "\n",
        "print(\"Hamming Lossing:\",hamming_loss(y_test, predicted))\n",
        "print(\"Accuracy Score:\",accuracy_score(y_test, predicted))\n",
        "print('Training Time Taken: ',round(time.time()-start,0),'seconds')"
      ],
      "metadata": {
        "id": "qdG8fLpBrYgT"
      },
      "execution_count": null,
      "outputs": []
    },
    {
      "cell_type": "code",
      "source": [
        "from sklearn.metrics import multilabel_confusion_matrix,classification_report\n",
        "from sklearn.metrics import precision_score, recall_score, f1_score\n",
        "\n",
        "print(classification_report(y_test, predicted))\n",
        "print(multilabel_confusion_matrix(y_test, predicted))\n",
        "\n",
        "from sklearn.metrics import accuracy_score\n",
        "print(\"ACC: \",accuracy_score(predicted,y_test))"
      ],
      "metadata": {
        "id": "0riZc_SHsUDi"
      },
      "execution_count": null,
      "outputs": []
    },
    {
      "cell_type": "code",
      "source": [
        "import pandas as pd\n",
        "aspects_df = pd.read_csv('/content/drive/Shareddrives/EMOThreat/test_set_taskA.csv')\n",
        "X = aspects_df[\"Sentences\"]\n",
        "xx=X\n",
        "vetorizar = TfidfVectorizer(max_features=7000, max_df=0.85)\n",
        "# fitting the tf-idf on the given data\n",
        "vetorizar.fit(X)\n",
        "X = vetorizar.transform(X)\n",
        "mlknn=mlknn_classifier.predict(X)\n",
        "csv = pd.DataFrame(mlknn.toarray(),columns=[\"anger\",\"disgust\",\"fear\",\"sadness\",\"surprise\",\"happiness\",\"neutral\"])\n",
        "csv.insert(7,\"Sentences\",aspects_df[\"Sentences\"],True)\n",
        "csv.to_csv(\"pred_tfidf_mlknn.csv\", index=False)"
      ],
      "metadata": {
        "id": "6daWn1WZ0mKI"
      },
      "execution_count": null,
      "outputs": []
    }
  ]
}
